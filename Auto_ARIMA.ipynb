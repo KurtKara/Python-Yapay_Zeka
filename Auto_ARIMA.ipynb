{
  "nbformat": 4,
  "nbformat_minor": 0,
  "metadata": {
    "kernelspec": {
      "display_name": "Python 3",
      "language": "python",
      "name": "python3"
    },
    "language_info": {
      "codemirror_mode": {
        "name": "ipython",
        "version": 3
      },
      "file_extension": ".py",
      "mimetype": "text/x-python",
      "name": "python",
      "nbconvert_exporter": "python",
      "pygments_lexer": "ipython3",
      "version": "3.6.7"
    },
    "colab": {
      "name": "Auto ARIMA.ipynb",
      "provenance": [],
      "collapsed_sections": [],
      "include_colab_link": true
    }
  },
  "cells": [
    {
      "cell_type": "markdown",
      "metadata": {
        "id": "view-in-github",
        "colab_type": "text"
      },
      "source": [
        "<a href=\"https://colab.research.google.com/github/RegaipKURT/Machine-Learning-Python/blob/master/Auto_ARIMA.ipynb\" target=\"_parent\"><img src=\"https://colab.research.google.com/assets/colab-badge.svg\" alt=\"Open In Colab\"/></a>"
      ]
    },
    {
      "cell_type": "markdown",
      "metadata": {
        "id": "uzlwXQEmEd98",
        "colab_type": "text"
      },
      "source": [
        "### Packages"
      ]
    },
    {
      "cell_type": "code",
      "metadata": {
        "id": "ijO07ssIEntd",
        "colab_type": "code",
        "colab": {}
      },
      "source": [
        "!pip3 install arch yfinance pmdarima"
      ],
      "execution_count": 0,
      "outputs": []
    },
    {
      "cell_type": "code",
      "metadata": {
        "id": "_9qBqUaCEd9-",
        "colab_type": "code",
        "colab": {}
      },
      "source": [
        "import numpy as np\n",
        "import pandas as pd\n",
        "import scipy\n",
        "import statsmodels.api as sm\n",
        "import matplotlib.pyplot as plt\n",
        "import seaborn as sns\n",
        "import sklearn\n",
        "from statsmodels.tsa.arima_model import ARIMA\n",
        "from arch import arch_model\n",
        "import seaborn as sns\n",
        "import yfinance\n",
        "import warnings\n",
        "warnings.filterwarnings(\"ignore\")\n",
        "sns.set()"
      ],
      "execution_count": 0,
      "outputs": []
    },
    {
      "cell_type": "markdown",
      "metadata": {
        "id": "LB1RUHpTEd-F",
        "colab_type": "text"
      },
      "source": [
        "### Loading the data"
      ]
    },
    {
      "cell_type": "code",
      "metadata": {
        "id": "mxl9qvYXEd-G",
        "colab_type": "code",
        "colab": {
          "base_uri": "https://localhost:8080/",
          "height": 34
        },
        "outputId": "a4d3f90a-77c5-4c31-f485-964cdc47c777"
      },
      "source": [
        "raw_data = yfinance.download (tickers = \"^GSPC ^FTSE ^N225 ^GDAXI\", start = \"1994-01-07\", end = \"2020-01-29\", \n",
        "                              interval = \"1d\", group_by = 'ticker', auto_adjust = True, treads = True)"
      ],
      "execution_count": 14,
      "outputs": [
        {
          "output_type": "stream",
          "text": [
            "[*********************100%***********************]  4 of 4 completed\n"
          ],
          "name": "stdout"
        }
      ]
    },
    {
      "cell_type": "code",
      "metadata": {
        "id": "nN_Ul-EeEd-M",
        "colab_type": "code",
        "colab": {}
      },
      "source": [
        "df_comp = raw_data.copy()"
      ],
      "execution_count": 0,
      "outputs": []
    },
    {
      "cell_type": "code",
      "metadata": {
        "id": "4oMLzUP3Ed-Q",
        "colab_type": "code",
        "colab": {}
      },
      "source": [
        "df_comp['spx'] = df_comp['^GSPC'].Close[:]\n",
        "df_comp['dax'] = df_comp['^GDAXI'].Close[:]\n",
        "df_comp['ftse'] = df_comp['^FTSE'].Close[:]\n",
        "df_comp['nikkei'] = df_comp['^N225'].Close[:]"
      ],
      "execution_count": 0,
      "outputs": []
    },
    {
      "cell_type": "code",
      "metadata": {
        "scrolled": true,
        "id": "qBj7IKa4Ed-U",
        "colab_type": "code",
        "colab": {}
      },
      "source": [
        "df_comp = df_comp.iloc[1:]\n",
        "del df_comp['^N225']\n",
        "del df_comp['^GSPC']\n",
        "del df_comp['^GDAXI']\n",
        "del df_comp['^FTSE']\n",
        "df_comp=df_comp.asfreq('b')\n",
        "df_comp=df_comp.fillna(method='ffill')"
      ],
      "execution_count": 0,
      "outputs": []
    },
    {
      "cell_type": "markdown",
      "metadata": {
        "id": "pBwHEQ6aEd-Y",
        "colab_type": "text"
      },
      "source": [
        "### Creating Returns"
      ]
    },
    {
      "cell_type": "code",
      "metadata": {
        "id": "5zq5DYz_Ed-Z",
        "colab_type": "code",
        "colab": {}
      },
      "source": [
        "df_comp['ret_spx'] = df_comp.spx.pct_change(1)*100\n",
        "df_comp['ret_ftse'] = df_comp.ftse.pct_change(1)*100\n",
        "df_comp['ret_dax'] = df_comp.dax.pct_change(1)*100\n",
        "df_comp['ret_nikkei'] = df_comp.nikkei.pct_change(1)*100"
      ],
      "execution_count": 0,
      "outputs": []
    },
    {
      "cell_type": "markdown",
      "metadata": {
        "id": "VbCr95XOEd-e",
        "colab_type": "text"
      },
      "source": [
        "### Splitting the Data"
      ]
    },
    {
      "cell_type": "code",
      "metadata": {
        "id": "rdN5XxpvEd-f",
        "colab_type": "code",
        "colab": {}
      },
      "source": [
        "size = int(len(df_comp)*0.8)\n",
        "df, df_test = df_comp.iloc[:size], df_comp.iloc[size:]"
      ],
      "execution_count": 0,
      "outputs": []
    },
    {
      "cell_type": "markdown",
      "metadata": {
        "id": "dbN_MSgfEd-j",
        "colab_type": "text"
      },
      "source": [
        "### Fitting a Model"
      ]
    },
    {
      "cell_type": "code",
      "metadata": {
        "id": "XDDqduy7Ed-j",
        "colab_type": "code",
        "colab": {}
      },
      "source": [
        "from pmdarima.arima import auto_arima"
      ],
      "execution_count": 0,
      "outputs": []
    },
    {
      "cell_type": "code",
      "metadata": {
        "id": "AklvFnfCEd-n",
        "colab_type": "code",
        "colab": {}
      },
      "source": [
        "model_auto = auto_arima(df.ret_ftse[1:])"
      ],
      "execution_count": 0,
      "outputs": []
    },
    {
      "cell_type": "code",
      "metadata": {
        "id": "G1JKiN3zEd-s",
        "colab_type": "code",
        "colab": {
          "base_uri": "https://localhost:8080/",
          "height": 85
        },
        "outputId": "bbd485f9-e8c8-4c52-e740-212f7eb9a01e"
      },
      "source": [
        "model_auto"
      ],
      "execution_count": 22,
      "outputs": [
        {
          "output_type": "execute_result",
          "data": {
            "text/plain": [
              "ARIMA(maxiter=50, method='lbfgs', order=(3, 0, 5), out_of_sample_size=0,\n",
              "      scoring='mse', scoring_args=None, seasonal_order=(0, 0, 0, 0),\n",
              "      start_params=None, suppress_warnings=False, trend=None,\n",
              "      with_intercept=True)"
            ]
          },
          "metadata": {
            "tags": []
          },
          "execution_count": 22
        }
      ]
    },
    {
      "cell_type": "code",
      "metadata": {
        "id": "w3vpJIs3Ed-x",
        "colab_type": "code",
        "colab": {
          "base_uri": "https://localhost:8080/",
          "height": 570
        },
        "outputId": "172fde0f-dde6-4d37-dbde-23fd2ef8401b"
      },
      "source": [
        "model_auto.summary()"
      ],
      "execution_count": 23,
      "outputs": [
        {
          "output_type": "execute_result",
          "data": {
            "text/html": [
              "<table class=\"simpletable\">\n",
              "<caption>Statespace Model Results</caption>\n",
              "<tr>\n",
              "  <th>Dep. Variable:</th>           <td>y</td>        <th>  No. Observations:  </th>   <td>5437</td>   \n",
              "</tr>\n",
              "<tr>\n",
              "  <th>Model:</th>           <td>SARIMAX(3, 0, 5)</td> <th>  Log Likelihood     </th> <td>-8407.476</td>\n",
              "</tr>\n",
              "<tr>\n",
              "  <th>Date:</th>            <td>Wed, 01 Apr 2020</td> <th>  AIC                </th> <td>16834.952</td>\n",
              "</tr>\n",
              "<tr>\n",
              "  <th>Time:</th>                <td>23:33:41</td>     <th>  BIC                </th> <td>16900.962</td>\n",
              "</tr>\n",
              "<tr>\n",
              "  <th>Sample:</th>                  <td>0</td>        <th>  HQIC               </th> <td>16857.989</td>\n",
              "</tr>\n",
              "<tr>\n",
              "  <th></th>                      <td> - 5437</td>     <th>                     </th>     <td> </td>    \n",
              "</tr>\n",
              "<tr>\n",
              "  <th>Covariance Type:</th>        <td>opg</td>       <th>                     </th>     <td> </td>    \n",
              "</tr>\n",
              "</table>\n",
              "<table class=\"simpletable\">\n",
              "<tr>\n",
              "      <td></td>         <th>coef</th>     <th>std err</th>      <th>z</th>      <th>P>|z|</th>  <th>[0.025</th>    <th>0.975]</th>  \n",
              "</tr>\n",
              "<tr>\n",
              "  <th>intercept</th> <td>    0.0434</td> <td>    0.033</td> <td>    1.313</td> <td> 0.189</td> <td>   -0.021</td> <td>    0.108</td>\n",
              "</tr>\n",
              "<tr>\n",
              "  <th>ar.L1</th>     <td>   -0.1416</td> <td>    0.076</td> <td>   -1.868</td> <td> 0.062</td> <td>   -0.290</td> <td>    0.007</td>\n",
              "</tr>\n",
              "<tr>\n",
              "  <th>ar.L2</th>     <td>   -0.8812</td> <td>    0.018</td> <td>  -49.037</td> <td> 0.000</td> <td>   -0.916</td> <td>   -0.846</td>\n",
              "</tr>\n",
              "<tr>\n",
              "  <th>ar.L3</th>     <td>   -0.2957</td> <td>    0.070</td> <td>   -4.204</td> <td> 0.000</td> <td>   -0.433</td> <td>   -0.158</td>\n",
              "</tr>\n",
              "<tr>\n",
              "  <th>ma.L1</th>     <td>    0.1170</td> <td>    0.076</td> <td>    1.540</td> <td> 0.124</td> <td>   -0.032</td> <td>    0.266</td>\n",
              "</tr>\n",
              "<tr>\n",
              "  <th>ma.L2</th>     <td>    0.8284</td> <td>    0.021</td> <td>   39.405</td> <td> 0.000</td> <td>    0.787</td> <td>    0.870</td>\n",
              "</tr>\n",
              "<tr>\n",
              "  <th>ma.L3</th>     <td>    0.1869</td> <td>    0.069</td> <td>    2.705</td> <td> 0.007</td> <td>    0.052</td> <td>    0.322</td>\n",
              "</tr>\n",
              "<tr>\n",
              "  <th>ma.L4</th>     <td>   -0.0114</td> <td>    0.009</td> <td>   -1.305</td> <td> 0.192</td> <td>   -0.029</td> <td>    0.006</td>\n",
              "</tr>\n",
              "<tr>\n",
              "  <th>ma.L5</th>     <td>   -0.1066</td> <td>    0.008</td> <td>  -13.220</td> <td> 0.000</td> <td>   -0.122</td> <td>   -0.091</td>\n",
              "</tr>\n",
              "<tr>\n",
              "  <th>sigma2</th>    <td>    1.2901</td> <td>    0.013</td> <td>   95.845</td> <td> 0.000</td> <td>    1.264</td> <td>    1.316</td>\n",
              "</tr>\n",
              "</table>\n",
              "<table class=\"simpletable\">\n",
              "<tr>\n",
              "  <th>Ljung-Box (Q):</th>          <td>74.44</td> <th>  Jarque-Bera (JB):  </th> <td>7327.56</td>\n",
              "</tr>\n",
              "<tr>\n",
              "  <th>Prob(Q):</th>                <td>0.00</td>  <th>  Prob(JB):          </th>  <td>0.00</td>  \n",
              "</tr>\n",
              "<tr>\n",
              "  <th>Heteroskedasticity (H):</th> <td>1.81</td>  <th>  Skew:              </th>  <td>-0.17</td> \n",
              "</tr>\n",
              "<tr>\n",
              "  <th>Prob(H) (two-sided):</th>    <td>0.00</td>  <th>  Kurtosis:          </th>  <td>8.68</td>  \n",
              "</tr>\n",
              "</table><br/><br/>Warnings:<br/>[1] Covariance matrix calculated using the outer product of gradients (complex-step)."
            ],
            "text/plain": [
              "<class 'statsmodels.iolib.summary.Summary'>\n",
              "\"\"\"\n",
              "                           Statespace Model Results                           \n",
              "==============================================================================\n",
              "Dep. Variable:                      y   No. Observations:                 5437\n",
              "Model:               SARIMAX(3, 0, 5)   Log Likelihood               -8407.476\n",
              "Date:                Wed, 01 Apr 2020   AIC                          16834.952\n",
              "Time:                        23:33:41   BIC                          16900.962\n",
              "Sample:                             0   HQIC                         16857.989\n",
              "                               - 5437                                         \n",
              "Covariance Type:                  opg                                         \n",
              "==============================================================================\n",
              "                 coef    std err          z      P>|z|      [0.025      0.975]\n",
              "------------------------------------------------------------------------------\n",
              "intercept      0.0434      0.033      1.313      0.189      -0.021       0.108\n",
              "ar.L1         -0.1416      0.076     -1.868      0.062      -0.290       0.007\n",
              "ar.L2         -0.8812      0.018    -49.037      0.000      -0.916      -0.846\n",
              "ar.L3         -0.2957      0.070     -4.204      0.000      -0.433      -0.158\n",
              "ma.L1          0.1170      0.076      1.540      0.124      -0.032       0.266\n",
              "ma.L2          0.8284      0.021     39.405      0.000       0.787       0.870\n",
              "ma.L3          0.1869      0.069      2.705      0.007       0.052       0.322\n",
              "ma.L4         -0.0114      0.009     -1.305      0.192      -0.029       0.006\n",
              "ma.L5         -0.1066      0.008    -13.220      0.000      -0.122      -0.091\n",
              "sigma2         1.2901      0.013     95.845      0.000       1.264       1.316\n",
              "===================================================================================\n",
              "Ljung-Box (Q):                       74.44   Jarque-Bera (JB):              7327.56\n",
              "Prob(Q):                              0.00   Prob(JB):                         0.00\n",
              "Heteroskedasticity (H):               1.81   Skew:                            -0.17\n",
              "Prob(H) (two-sided):                  0.00   Kurtosis:                         8.68\n",
              "===================================================================================\n",
              "\n",
              "Warnings:\n",
              "[1] Covariance matrix calculated using the outer product of gradients (complex-step).\n",
              "\"\"\""
            ]
          },
          "metadata": {
            "tags": []
          },
          "execution_count": 23
        }
      ]
    },
    {
      "cell_type": "markdown",
      "metadata": {
        "id": "iRDs5jYAEd-1",
        "colab_type": "text"
      },
      "source": [
        "### Important Arguments"
      ]
    },
    {
      "cell_type": "code",
      "metadata": {
        "scrolled": true,
        "id": "6cGobbjPEd-2",
        "colab_type": "code",
        "colab": {}
      },
      "source": [
        "model_auto = auto_arima(df_comp.ret_ftse[1:], exogenous = df_comp[['ret_spx', 'ret_dax', 'ret_nikkei']][1:], m = 5,\n",
        "                       max_order = None, max_p = 7, max_q = 7, max_d = 2, max_P = 4, max_Q = 4, max_D = 2,\n",
        "                       maxiter = 50, alpha = 0.05, n_jobs = -1, trend = 'ct', information_criterion = 'oob',\n",
        "                       out_of_sample = int(len(df_comp)*0.2))\n",
        "\n",
        "# !!! Important Note: In pdmarima v1.5.2, out_of_sample_size is replaced with out_of_sample, so make sure to use the latter!\n",
        "\n",
        "# exogenous -> outside factors (e.g other time series)\n",
        "# m -> seasonal cycle length\n",
        "# max_order -> maximum amount of variables to be used in the regression (p + q)\n",
        "# max_p -> maximum AR components\n",
        "# max_q -> maximum MA components\n",
        "# max_d -> maximum Integrations\n",
        "# maxiter -> maximum iterations we're giving the model to converge the coefficients (becomes harder as the order increases)\n",
        "# alpha -> level of significance, default is 5%, which we should be using most of the time\n",
        "# n_jobs -> how many models to fit at a time (-1 indicates \"as many as possible\")\n",
        "# trend -> \"ct\" usually\n",
        "# information_criterion -> 'aic', 'aicc', 'bic', 'hqic', 'oob' \n",
        "#        (Akaike Information Criterion, Corrected Akaike Information Criterion,\n",
        "#        Bayesian Information Criterion, Hannan-Quinn Information Criterion, or\n",
        "#        \"out of bag\"--for validation scoring--respectively)\n",
        "# out_of_smaple -> validates the model selection (pass the entire dataset, and set 20% to be the out_of_sample_size)"
      ],
      "execution_count": 0,
      "outputs": []
    },
    {
      "cell_type": "code",
      "metadata": {
        "id": "QScSYWV1Ed-6",
        "colab_type": "code",
        "colab": {
          "base_uri": "https://localhost:8080/",
          "height": 612
        },
        "outputId": "180208bc-5de5-45e4-8059-065abb3b2c29"
      },
      "source": [
        "model_auto.summary()"
      ],
      "execution_count": 25,
      "outputs": [
        {
          "output_type": "execute_result",
          "data": {
            "text/html": [
              "<table class=\"simpletable\">\n",
              "<caption>Statespace Model Results</caption>\n",
              "<tr>\n",
              "  <th>Dep. Variable:</th>                 <td>y</td>               <th>  No. Observations:  </th>   <td>6797</td>   \n",
              "</tr>\n",
              "<tr>\n",
              "  <th>Model:</th>           <td>SARIMAX(2, 0, 2)x(1, 0, 1, 5)</td> <th>  Log Likelihood     </th> <td>-6753.825</td>\n",
              "</tr>\n",
              "<tr>\n",
              "  <th>Date:</th>                  <td>Wed, 01 Apr 2020</td>        <th>  AIC                </th> <td>13531.650</td>\n",
              "</tr>\n",
              "<tr>\n",
              "  <th>Time:</th>                      <td>23:38:36</td>            <th>  BIC                </th> <td>13613.541</td>\n",
              "</tr>\n",
              "<tr>\n",
              "  <th>Sample:</th>                   <td>01-11-1994</td>           <th>  HQIC               </th> <td>13559.910</td>\n",
              "</tr>\n",
              "<tr>\n",
              "  <th></th>                         <td>- 01-29-2020</td>          <th>                     </th>     <td> </td>    \n",
              "</tr>\n",
              "<tr>\n",
              "  <th>Covariance Type:</th>              <td>opg</td>              <th>                     </th>     <td> </td>    \n",
              "</tr>\n",
              "</table>\n",
              "<table class=\"simpletable\">\n",
              "<tr>\n",
              "       <td></td>         <th>coef</th>     <th>std err</th>      <th>z</th>      <th>P>|z|</th>  <th>[0.025</th>    <th>0.975]</th>  \n",
              "</tr>\n",
              "<tr>\n",
              "  <th>intercept</th>  <td>   -0.0051</td> <td>    0.007</td> <td>   -0.702</td> <td> 0.482</td> <td>   -0.019</td> <td>    0.009</td>\n",
              "</tr>\n",
              "<tr>\n",
              "  <th>drift</th>      <td>-1.079e-06</td> <td> 2.12e-06</td> <td>   -0.508</td> <td> 0.611</td> <td>-5.24e-06</td> <td> 3.08e-06</td>\n",
              "</tr>\n",
              "<tr>\n",
              "  <th>ret_spx</th>    <td>    0.0926</td> <td>    0.005</td> <td>   17.133</td> <td> 0.000</td> <td>    0.082</td> <td>    0.103</td>\n",
              "</tr>\n",
              "<tr>\n",
              "  <th>ret_dax</th>    <td>    0.5598</td> <td>    0.005</td> <td>  118.893</td> <td> 0.000</td> <td>    0.551</td> <td>    0.569</td>\n",
              "</tr>\n",
              "<tr>\n",
              "  <th>ret_nikkei</th> <td>    0.0698</td> <td>    0.004</td> <td>   17.135</td> <td> 0.000</td> <td>    0.062</td> <td>    0.078</td>\n",
              "</tr>\n",
              "<tr>\n",
              "  <th>ar.L1</th>      <td>   -0.1593</td> <td>    0.098</td> <td>   -1.631</td> <td> 0.103</td> <td>   -0.351</td> <td>    0.032</td>\n",
              "</tr>\n",
              "<tr>\n",
              "  <th>ar.L2</th>      <td>    0.5318</td> <td>    0.057</td> <td>    9.376</td> <td> 0.000</td> <td>    0.421</td> <td>    0.643</td>\n",
              "</tr>\n",
              "<tr>\n",
              "  <th>ma.L1</th>      <td>    0.0590</td> <td>    0.098</td> <td>    0.603</td> <td> 0.547</td> <td>   -0.133</td> <td>    0.251</td>\n",
              "</tr>\n",
              "<tr>\n",
              "  <th>ma.L2</th>      <td>   -0.5564</td> <td>    0.055</td> <td>  -10.044</td> <td> 0.000</td> <td>   -0.665</td> <td>   -0.448</td>\n",
              "</tr>\n",
              "<tr>\n",
              "  <th>ar.S.L5</th>    <td>    0.0751</td> <td>    0.315</td> <td>    0.238</td> <td> 0.812</td> <td>   -0.542</td> <td>    0.692</td>\n",
              "</tr>\n",
              "<tr>\n",
              "  <th>ma.S.L5</th>    <td>   -0.1043</td> <td>    0.315</td> <td>   -0.331</td> <td> 0.741</td> <td>   -0.722</td> <td>    0.513</td>\n",
              "</tr>\n",
              "<tr>\n",
              "  <th>sigma2</th>     <td>    0.4259</td> <td>    0.004</td> <td>  103.313</td> <td> 0.000</td> <td>    0.418</td> <td>    0.434</td>\n",
              "</tr>\n",
              "</table>\n",
              "<table class=\"simpletable\">\n",
              "<tr>\n",
              "  <th>Ljung-Box (Q):</th>          <td>86.14</td> <th>  Jarque-Bera (JB):  </th> <td>16744.02</td>\n",
              "</tr>\n",
              "<tr>\n",
              "  <th>Prob(Q):</th>                <td>0.00</td>  <th>  Prob(JB):          </th>   <td>0.00</td>  \n",
              "</tr>\n",
              "<tr>\n",
              "  <th>Heteroskedasticity (H):</th> <td>0.48</td>  <th>  Skew:              </th>   <td>0.26</td>  \n",
              "</tr>\n",
              "<tr>\n",
              "  <th>Prob(H) (two-sided):</th>    <td>0.00</td>  <th>  Kurtosis:          </th>   <td>10.67</td> \n",
              "</tr>\n",
              "</table><br/><br/>Warnings:<br/>[1] Covariance matrix calculated using the outer product of gradients (complex-step)."
            ],
            "text/plain": [
              "<class 'statsmodels.iolib.summary.Summary'>\n",
              "\"\"\"\n",
              "                                 Statespace Model Results                                \n",
              "=========================================================================================\n",
              "Dep. Variable:                                 y   No. Observations:                 6797\n",
              "Model:             SARIMAX(2, 0, 2)x(1, 0, 1, 5)   Log Likelihood               -6753.825\n",
              "Date:                           Wed, 01 Apr 2020   AIC                          13531.650\n",
              "Time:                                   23:38:36   BIC                          13613.541\n",
              "Sample:                               01-11-1994   HQIC                         13559.910\n",
              "                                    - 01-29-2020                                         \n",
              "Covariance Type:                             opg                                         \n",
              "==============================================================================\n",
              "                 coef    std err          z      P>|z|      [0.025      0.975]\n",
              "------------------------------------------------------------------------------\n",
              "intercept     -0.0051      0.007     -0.702      0.482      -0.019       0.009\n",
              "drift      -1.079e-06   2.12e-06     -0.508      0.611   -5.24e-06    3.08e-06\n",
              "ret_spx        0.0926      0.005     17.133      0.000       0.082       0.103\n",
              "ret_dax        0.5598      0.005    118.893      0.000       0.551       0.569\n",
              "ret_nikkei     0.0698      0.004     17.135      0.000       0.062       0.078\n",
              "ar.L1         -0.1593      0.098     -1.631      0.103      -0.351       0.032\n",
              "ar.L2          0.5318      0.057      9.376      0.000       0.421       0.643\n",
              "ma.L1          0.0590      0.098      0.603      0.547      -0.133       0.251\n",
              "ma.L2         -0.5564      0.055    -10.044      0.000      -0.665      -0.448\n",
              "ar.S.L5        0.0751      0.315      0.238      0.812      -0.542       0.692\n",
              "ma.S.L5       -0.1043      0.315     -0.331      0.741      -0.722       0.513\n",
              "sigma2         0.4259      0.004    103.313      0.000       0.418       0.434\n",
              "===================================================================================\n",
              "Ljung-Box (Q):                       86.14   Jarque-Bera (JB):             16744.02\n",
              "Prob(Q):                              0.00   Prob(JB):                         0.00\n",
              "Heteroskedasticity (H):               0.48   Skew:                             0.26\n",
              "Prob(H) (two-sided):                  0.00   Kurtosis:                        10.67\n",
              "===================================================================================\n",
              "\n",
              "Warnings:\n",
              "[1] Covariance matrix calculated using the outer product of gradients (complex-step).\n",
              "\"\"\""
            ]
          },
          "metadata": {
            "tags": []
          },
          "execution_count": 25
        }
      ]
    }
  ]
}