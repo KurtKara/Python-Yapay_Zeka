{
  "nbformat": 4,
  "nbformat_minor": 0,
  "metadata": {
    "kernelspec": {
      "display_name": "Python 3",
      "language": "python",
      "name": "python3"
    },
    "language_info": {
      "codemirror_mode": {
        "name": "ipython",
        "version": 3
      },
      "file_extension": ".py",
      "mimetype": "text/x-python",
      "name": "python",
      "nbconvert_exporter": "python",
      "pygments_lexer": "ipython3",
      "version": "3.6.7"
    },
    "colab": {
      "name": "The ARCH Model .ipynb",
      "provenance": [],
      "collapsed_sections": [],
      "include_colab_link": true
    }
  },
  "cells": [
    {
      "cell_type": "markdown",
      "metadata": {
        "id": "view-in-github",
        "colab_type": "text"
      },
      "source": [
        "<a href=\"https://colab.research.google.com/github/RegaipKURT/Machine-Learning-Python/blob/master/The_ARCH_Model_.ipynb\" target=\"_parent\"><img src=\"https://colab.research.google.com/assets/colab-badge.svg\" alt=\"Open In Colab\"/></a>"
      ]
    },
    {
      "cell_type": "markdown",
      "metadata": {
        "id": "jiopaOg_yzmP",
        "colab_type": "text"
      },
      "source": [
        "## Importing the relevant packages"
      ]
    },
    {
      "cell_type": "code",
      "metadata": {
        "id": "uCJy-HlcyzmR",
        "colab_type": "code",
        "colab": {
          "base_uri": "https://localhost:8080/",
          "height": 71
        },
        "outputId": "549d0165-2f77-4b67-8495-bcd44498b0da"
      },
      "source": [
        "import pandas as pd\n",
        "import numpy as np\n",
        "import matplotlib.pyplot as plt\n",
        "import statsmodels.graphics.tsaplots as sgt\n",
        "import statsmodels.tsa.stattools as sts\n",
        "from statsmodels.tsa.arima_model import ARIMA\n",
        "from scipy.stats.distributions import chi2 \n",
        "from math import sqrt\n",
        "import seaborn as sns\n",
        "sns.set()"
      ],
      "execution_count": 1,
      "outputs": [
        {
          "output_type": "stream",
          "text": [
            "/usr/local/lib/python3.6/dist-packages/statsmodels/tools/_testing.py:19: FutureWarning: pandas.util.testing is deprecated. Use the functions in the public API at pandas.testing instead.\n",
            "  import pandas.util.testing as tm\n"
          ],
          "name": "stderr"
        }
      ]
    },
    {
      "cell_type": "markdown",
      "metadata": {
        "id": "-pLwr9JCyzmX",
        "colab_type": "text"
      },
      "source": [
        "## Importing the Data and Pre-processing "
      ]
    },
    {
      "cell_type": "code",
      "metadata": {
        "id": "Hh5Jh9wRyzmY",
        "colab_type": "code",
        "colab": {}
      },
      "source": [
        "raw_csv_data = pd.read_csv(\"Index2018.csv\") \n",
        "df_comp=raw_csv_data.copy()\n",
        "df_comp.date = pd.to_datetime(df_comp.date, dayfirst = True)\n",
        "df_comp.set_index(\"date\", inplace=True)\n",
        "df_comp=df_comp.asfreq('b')\n",
        "df_comp=df_comp.fillna(method='ffill')"
      ],
      "execution_count": 0,
      "outputs": []
    },
    {
      "cell_type": "code",
      "metadata": {
        "id": "pESVhPoOyzmd",
        "colab_type": "code",
        "colab": {}
      },
      "source": [
        "df_comp['market_value']=df_comp.ftse"
      ],
      "execution_count": 0,
      "outputs": []
    },
    {
      "cell_type": "code",
      "metadata": {
        "id": "6JhjFgA3yzmh",
        "colab_type": "code",
        "colab": {}
      },
      "source": [
        "del df_comp['spx']\n",
        "del df_comp['dax']\n",
        "del df_comp['ftse']\n",
        "del df_comp['nikkei']\n",
        "size = int(len(df_comp)*0.8)\n",
        "df, df_test = df_comp.iloc[:size], df_comp.iloc[size:]"
      ],
      "execution_count": 0,
      "outputs": []
    },
    {
      "cell_type": "code",
      "metadata": {
        "id": "gUdrgx8qyzml",
        "colab_type": "code",
        "colab": {}
      },
      "source": [
        "import warnings\n",
        "warnings.filterwarnings(\"ignore\")"
      ],
      "execution_count": 0,
      "outputs": []
    },
    {
      "cell_type": "markdown",
      "metadata": {
        "id": "JmOYj-84yzmp",
        "colab_type": "text"
      },
      "source": [
        " "
      ]
    },
    {
      "cell_type": "markdown",
      "metadata": {
        "id": "JxeYJQZcyzmq",
        "colab_type": "text"
      },
      "source": [
        "## The LLR Test"
      ]
    },
    {
      "cell_type": "code",
      "metadata": {
        "id": "ASqvQHyEyzmr",
        "colab_type": "code",
        "colab": {}
      },
      "source": [
        "def LLR_test(mod_1, mod_2, DF = 1):\n",
        "    L1 = mod_1.fit(start_ar_lags = 11).llf\n",
        "    L2 = mod_2.fit(start_ar_lags = 11).llf\n",
        "    LR = (2*(L2-L1))    \n",
        "    p = chi2.sf(LR, DF).round(3)\n",
        "    return p"
      ],
      "execution_count": 0,
      "outputs": []
    },
    {
      "cell_type": "markdown",
      "metadata": {
        "id": "IbDw-O-kyzmw",
        "colab_type": "text"
      },
      "source": [
        "## Creating Returns"
      ]
    },
    {
      "cell_type": "code",
      "metadata": {
        "scrolled": true,
        "id": "5iYEA_mkyzmx",
        "colab_type": "code",
        "colab": {}
      },
      "source": [
        "df['returns'] = df.market_value.pct_change(1)*100"
      ],
      "execution_count": 0,
      "outputs": []
    },
    {
      "cell_type": "markdown",
      "metadata": {
        "id": "d9a8E_N2yzm0",
        "colab_type": "text"
      },
      "source": [
        "## Creating Squared Returns"
      ]
    },
    {
      "cell_type": "code",
      "metadata": {
        "id": "g-OejRluyzm1",
        "colab_type": "code",
        "colab": {}
      },
      "source": [
        "df['sq_returns'] = df.returns.mul(df.returns)"
      ],
      "execution_count": 0,
      "outputs": []
    },
    {
      "cell_type": "markdown",
      "metadata": {
        "id": "sXeceCwLyzm5",
        "colab_type": "text"
      },
      "source": [
        "## Returns vs Squared Returns"
      ]
    },
    {
      "cell_type": "code",
      "metadata": {
        "id": "vBzovdWayzm6",
        "colab_type": "code",
        "colab": {
          "base_uri": "https://localhost:8080/",
          "height": 272
        },
        "outputId": "ffe7dd1f-fe19-488a-900f-56069b649f50"
      },
      "source": [
        "df.returns.plot(figsize=(20,5))\n",
        "plt.title(\"Returns\", size = 24)\n",
        "plt.show()"
      ],
      "execution_count": 9,
      "outputs": [
        {
          "output_type": "display_data",
          "data": {
            "image/png": "[encoded data removed]",
            "text/plain": [
              "<Figure size 1440x360 with 1 Axes>"
            ]
          },
          "metadata": {
            "tags": []
          }
        }
      ]
    },
    {
      "cell_type": "code",
      "metadata": {
        "id": "J8ImxZEryzm_",
        "colab_type": "code",
        "colab": {
          "base_uri": "https://localhost:8080/",
          "height": 273
        },
        "outputId": "3b9e11ba-7c4b-4d9f-baf7-8eff31a7f4cc"
      },
      "source": [
        "df.sq_returns.plot(figsize=(20,5))\n",
        "plt.title(\"Volatility\", size = 24)\n",
        "plt.show()"
      ],
      "execution_count": 10,
      "outputs": [
        {
          "output_type": "display_data",
          "data": {
            "image/png": "[encoded data removed]",
            "text/plain": [
              "<Figure size 1440x360 with 1 Axes>"
            ]
          },
          "metadata": {
            "tags": []
          }
        }
      ]
    },
    {
      "cell_type": "code",
      "metadata": {
        "id": "W4vqDuYryznE",
        "colab_type": "code",
        "colab": {
          "base_uri": "https://localhost:8080/",
          "height": 289
        },
        "outputId": "938ad9e8-e38b-469d-b0f4-351abbf342aa"
      },
      "source": [
        "sgt.plot_pacf(df.returns[1:], lags = 40, alpha = 0.05, zero = False , method = ('ols'))\n",
        "plt.title(\"PACF of Returns\", size = 20)\n",
        "plt.show()"
      ],
      "execution_count": 11,
      "outputs": [
        {
          "output_type": "display_data",
          "data": {
            "image/png": "[encoded data removed]",
            "text/plain": [
              "<Figure size 432x288 with 1 Axes>"
            ]
          },
          "metadata": {
            "tags": []
          }
        }
      ]
    },
    {
      "cell_type": "code",
      "metadata": {
        "id": "Ht9TzjaayznL",
        "colab_type": "code",
        "colab": {
          "base_uri": "https://localhost:8080/",
          "height": 289
        },
        "outputId": "6f1e819f-fa8e-4b1d-a477-c1dc41fd70a2"
      },
      "source": [
        "sgt.plot_pacf(df.sq_returns[1:], lags = 40, alpha = 0.05, zero = False , method = ('ols'))\n",
        "plt.title(\"PACF of Squared Returns\", size = 20)\n",
        "plt.show()"
      ],
      "execution_count": 12,
      "outputs": [
        {
          "output_type": "display_data",
          "data": {
            "image/png": "[encoded data removed]",
            "text/plain": [
              "<Figure size 432x288 with 1 Axes>"
            ]
          },
          "metadata": {
            "tags": []
          }
        }
      ]
    },
    {
      "cell_type": "markdown",
      "metadata": {
        "id": "XKqBuc1AyznO",
        "colab_type": "text"
      },
      "source": [
        "## The arch_model() Method"
      ]
    },
    {
      "cell_type": "code",
      "metadata": {
        "id": "dSjLhvd4zbfD",
        "colab_type": "code",
        "colab": {
          "base_uri": "https://localhost:8080/",
          "height": 309
        },
        "outputId": "9f49e6e1-55cc-4bcd-e694-b95eff5f276d"
      },
      "source": [
        "!pip3 install arch"
      ],
      "execution_count": 14,
      "outputs": [
        {
          "output_type": "stream",
          "text": [
            "Collecting arch\n",
            "\u001b[?25l  Downloading https://files.pythonhosted.org/packages/e7/8c/75fa4d36a8cb85dd20b4ca08f742e357c3f2a3fce499da31ed37f4b1622f/arch-4.13-cp36-cp36m-manylinux1_x86_64.whl (720kB)\n",
            "\u001b[K     |████████████████████████████████| 727kB 1.4MB/s \n",
            "\u001b[?25hRequirement already satisfied: statsmodels>=0.9 in /usr/local/lib/python3.6/dist-packages (from arch) (0.10.2)\n",
            "Requirement already satisfied: pandas>=0.23 in /usr/local/lib/python3.6/dist-packages (from arch) (1.0.3)\n",
            "Requirement already satisfied: cython>=0.29.14 in /usr/local/lib/python3.6/dist-packages (from arch) (0.29.16)\n",
            "Collecting property-cached>=1.6.3\n",
            "  Downloading https://files.pythonhosted.org/packages/5c/6c/94d8e520b20a2502e508e1c558f338061cf409cbee78fd6a3a5c6ae812bd/property_cached-1.6.4-py2.py3-none-any.whl\n",
            "Requirement already satisfied: numpy>=1.14 in /usr/local/lib/python3.6/dist-packages (from arch) (1.18.2)\n",
            "Requirement already satisfied: scipy>=1.0.1 in /usr/local/lib/python3.6/dist-packages (from arch) (1.4.1)\n",
            "Requirement already satisfied: patsy>=0.4.0 in /usr/local/lib/python3.6/dist-packages (from statsmodels>=0.9->arch) (0.5.1)\n",
            "Requirement already satisfied: pytz>=2017.2 in /usr/local/lib/python3.6/dist-packages (from pandas>=0.23->arch) (2018.9)\n",
            "Requirement already satisfied: python-dateutil>=2.6.1 in /usr/local/lib/python3.6/dist-packages (from pandas>=0.23->arch) (2.8.1)\n",
            "Requirement already satisfied: six in /usr/local/lib/python3.6/dist-packages (from patsy>=0.4.0->statsmodels>=0.9->arch) (1.12.0)\n",
            "Installing collected packages: property-cached, arch\n",
            "Successfully installed arch-4.13 property-cached-1.6.4\n"
          ],
          "name": "stdout"
        }
      ]
    },
    {
      "cell_type": "code",
      "metadata": {
        "id": "n2nGWWGByznP",
        "colab_type": "code",
        "colab": {}
      },
      "source": [
        "from arch import arch_model"
      ],
      "execution_count": 0,
      "outputs": []
    },
    {
      "cell_type": "code",
      "metadata": {
        "id": "yqqltgPfyznS",
        "colab_type": "code",
        "colab": {
          "base_uri": "https://localhost:8080/",
          "height": 538
        },
        "outputId": "27de8ca5-8f28-445d-94de-85f3bde690e5"
      },
      "source": [
        "model_arch_1 = arch_model(df.returns[1:])\n",
        "results_arch_1 = model_arch_1.fit(update_freq = 5)\n",
        "results_arch_1.summary()"
      ],
      "execution_count": 16,
      "outputs": [
        {
          "output_type": "stream",
          "text": [
            "Iteration:      5,   Func. Count:     39,   Neg. LLF: 6972.734736835859\n",
            "Iteration:     10,   Func. Count:     73,   Neg. LLF: 6970.088042271316\n",
            "Optimization terminated successfully.    (Exit mode 0)\n",
            "            Current function value: 6970.058366189893\n",
            "            Iterations: 13\n",
            "            Function evaluations: 91\n",
            "            Gradient evaluations: 13\n"
          ],
          "name": "stdout"
        },
        {
          "output_type": "execute_result",
          "data": {
            "text/html": [
              "<table class=\"simpletable\">\n",
              "<caption>Constant Mean - GARCH Model Results</caption>\n",
              "<tr>\n",
              "  <th>Dep. Variable:</th>       <td>returns</td>      <th>  R-squared:         </th>  <td>  -0.001</td> \n",
              "</tr>\n",
              "<tr>\n",
              "  <th>Mean Model:</th>       <td>Constant Mean</td>   <th>  Adj. R-squared:    </th>  <td>  -0.001</td> \n",
              "</tr>\n",
              "<tr>\n",
              "  <th>Vol Model:</th>            <td>GARCH</td>       <th>  Log-Likelihood:    </th> <td>  -6970.06</td>\n",
              "</tr>\n",
              "<tr>\n",
              "  <th>Distribution:</th>        <td>Normal</td>       <th>  AIC:               </th> <td>   13948.1</td>\n",
              "</tr>\n",
              "<tr>\n",
              "  <th>Method:</th>        <td>Maximum Likelihood</td> <th>  BIC:               </th> <td>   13974.2</td>\n",
              "</tr>\n",
              "<tr>\n",
              "  <th></th>                        <td></td>          <th>  No. Observations:  </th>    <td>5020</td>   \n",
              "</tr>\n",
              "<tr>\n",
              "  <th>Date:</th>           <td>Wed, Apr 01 2020</td>  <th>  Df Residuals:      </th>    <td>5016</td>   \n",
              "</tr>\n",
              "<tr>\n",
              "  <th>Time:</th>               <td>22:13:46</td>      <th>  Df Model:          </th>      <td>4</td>    \n",
              "</tr>\n",
              "</table>\n",
              "<table class=\"simpletable\">\n",
              "<caption>Mean Model</caption>\n",
              "<tr>\n",
              "   <td></td>     <th>coef</th>     <th>std err</th>      <th>t</th>       <th>P>|t|</th>     <th>95.0% Conf. Int.</th>   \n",
              "</tr>\n",
              "<tr>\n",
              "  <th>mu</th> <td>    0.0466</td> <td>1.183e-02</td> <td>    3.939</td> <td>8.187e-05</td> <td>[2.342e-02,6.981e-02]</td>\n",
              "</tr>\n",
              "</table>\n",
              "<table class=\"simpletable\">\n",
              "<caption>Volatility Model</caption>\n",
              "<tr>\n",
              "      <td></td>        <th>coef</th>     <th>std err</th>      <th>t</th>       <th>P>|t|</th>     <th>95.0% Conf. Int.</th>   \n",
              "</tr>\n",
              "<tr>\n",
              "  <th>omega</th>    <td>    0.0109</td> <td>3.004e-03</td> <td>    3.640</td> <td>2.724e-04</td> <td>[5.048e-03,1.682e-02]</td>\n",
              "</tr>\n",
              "<tr>\n",
              "  <th>alpha[1]</th> <td>    0.0835</td> <td>1.071e-02</td> <td>    7.794</td> <td>6.476e-15</td>  <td>[6.249e-02,  0.104]</td> \n",
              "</tr>\n",
              "<tr>\n",
              "  <th>beta[1]</th>  <td>    0.9089</td> <td>1.148e-02</td> <td>   79.168</td>   <td>0.000</td>     <td>[  0.886,  0.931]</td>  \n",
              "</tr>\n",
              "</table><br/><br/>Covariance estimator: robust"
            ],
            "text/plain": [
              "<class 'statsmodels.iolib.summary.Summary'>\n",
              "\"\"\"\n",
              "                     Constant Mean - GARCH Model Results                      \n",
              "==============================================================================\n",
              "Dep. Variable:                returns   R-squared:                      -0.001\n",
              "Mean Model:             Constant Mean   Adj. R-squared:                 -0.001\n",
              "Vol Model:                      GARCH   Log-Likelihood:               -6970.06\n",
              "Distribution:                  Normal   AIC:                           13948.1\n",
              "Method:            Maximum Likelihood   BIC:                           13974.2\n",
              "                                        No. Observations:                 5020\n",
              "Date:                Wed, Apr 01 2020   Df Residuals:                     5016\n",
              "Time:                        22:13:46   Df Model:                            4\n",
              "                                 Mean Model                                 \n",
              "============================================================================\n",
              "                 coef    std err          t      P>|t|      95.0% Conf. Int.\n",
              "----------------------------------------------------------------------------\n",
              "mu             0.0466  1.183e-02      3.939  8.187e-05 [2.342e-02,6.981e-02]\n",
              "                              Volatility Model                              \n",
              "============================================================================\n",
              "                 coef    std err          t      P>|t|      95.0% Conf. Int.\n",
              "----------------------------------------------------------------------------\n",
              "omega          0.0109  3.004e-03      3.640  2.724e-04 [5.048e-03,1.682e-02]\n",
              "alpha[1]       0.0835  1.071e-02      7.794  6.476e-15   [6.249e-02,  0.104]\n",
              "beta[1]        0.9089  1.148e-02     79.168      0.000     [  0.886,  0.931]\n",
              "============================================================================\n",
              "\n",
              "Covariance estimator: robust\n",
              "\"\"\""
            ]
          },
          "metadata": {
            "tags": []
          },
          "execution_count": 16
        }
      ]
    },
    {
      "cell_type": "markdown",
      "metadata": {
        "id": "MC01nqvDyznW",
        "colab_type": "text"
      },
      "source": [
        "## The Simple ARCH(1) "
      ]
    },
    {
      "cell_type": "code",
      "metadata": {
        "id": "ZKoeTDf3yznW",
        "colab_type": "code",
        "colab": {
          "base_uri": "https://localhost:8080/",
          "height": 500
        },
        "outputId": "99752498-3575-4c80-a35d-1007eea5387a"
      },
      "source": [
        "model_arch_1 = arch_model(df.returns[1:], mean = \"Constant\", vol = \"ARCH\", p = 1)\n",
        "results_arch_1 = model_arch_1.fit(update_freq = 5)\n",
        "results_arch_1.summary()"
      ],
      "execution_count": 17,
      "outputs": [
        {
          "output_type": "stream",
          "text": [
            "Iteration:      5,   Func. Count:     34,   Neg. LLF: 7660.088789377838\n",
            "Optimization terminated successfully.    (Exit mode 0)\n",
            "            Current function value: 7660.088782040875\n",
            "            Iterations: 6\n",
            "            Function evaluations: 39\n",
            "            Gradient evaluations: 6\n"
          ],
          "name": "stdout"
        },
        {
          "output_type": "execute_result",
          "data": {
            "text/html": [
              "<table class=\"simpletable\">\n",
              "<caption>Constant Mean - ARCH Model Results</caption>\n",
              "<tr>\n",
              "  <th>Dep. Variable:</th>       <td>returns</td>      <th>  R-squared:         </th>  <td>  -0.000</td> \n",
              "</tr>\n",
              "<tr>\n",
              "  <th>Mean Model:</th>       <td>Constant Mean</td>   <th>  Adj. R-squared:    </th>  <td>  -0.000</td> \n",
              "</tr>\n",
              "<tr>\n",
              "  <th>Vol Model:</th>            <td>ARCH</td>        <th>  Log-Likelihood:    </th> <td>  -7660.09</td>\n",
              "</tr>\n",
              "<tr>\n",
              "  <th>Distribution:</th>        <td>Normal</td>       <th>  AIC:               </th> <td>   15326.2</td>\n",
              "</tr>\n",
              "<tr>\n",
              "  <th>Method:</th>        <td>Maximum Likelihood</td> <th>  BIC:               </th> <td>   15345.7</td>\n",
              "</tr>\n",
              "<tr>\n",
              "  <th></th>                        <td></td>          <th>  No. Observations:  </th>    <td>5020</td>   \n",
              "</tr>\n",
              "<tr>\n",
              "  <th>Date:</th>           <td>Wed, Apr 01 2020</td>  <th>  Df Residuals:      </th>    <td>5017</td>   \n",
              "</tr>\n",
              "<tr>\n",
              "  <th>Time:</th>               <td>22:13:47</td>      <th>  Df Model:          </th>      <td>3</td>    \n",
              "</tr>\n",
              "</table>\n",
              "<table class=\"simpletable\">\n",
              "<caption>Mean Model</caption>\n",
              "<tr>\n",
              "   <td></td>     <th>coef</th>     <th>std err</th>      <th>t</th>       <th>P>|t|</th>     <th>95.0% Conf. Int.</th>   \n",
              "</tr>\n",
              "<tr>\n",
              "  <th>mu</th> <td>    0.0345</td> <td>1.603e-02</td> <td>    2.151</td> <td>3.147e-02</td> <td>[3.063e-03,6.590e-02]</td>\n",
              "</tr>\n",
              "</table>\n",
              "<table class=\"simpletable\">\n",
              "<caption>Volatility Model</caption>\n",
              "<tr>\n",
              "      <td></td>        <th>coef</th>     <th>std err</th>      <th>t</th>        <th>P>|t|</th>   <th>95.0% Conf. Int.</th> \n",
              "</tr>\n",
              "<tr>\n",
              "  <th>omega</th>    <td>    0.9206</td> <td>4.309e-02</td> <td>   21.365</td> <td>2.855e-101</td> <td>[  0.836,  1.005]</td>\n",
              "</tr>\n",
              "<tr>\n",
              "  <th>alpha[1]</th> <td>    0.3684</td> <td>5.040e-02</td> <td>    7.310</td>  <td>2.673e-13</td> <td>[  0.270,  0.467]</td>\n",
              "</tr>\n",
              "</table><br/><br/>Covariance estimator: robust"
            ],
            "text/plain": [
              "<class 'statsmodels.iolib.summary.Summary'>\n",
              "\"\"\"\n",
              "                      Constant Mean - ARCH Model Results                      \n",
              "==============================================================================\n",
              "Dep. Variable:                returns   R-squared:                      -0.000\n",
              "Mean Model:             Constant Mean   Adj. R-squared:                 -0.000\n",
              "Vol Model:                       ARCH   Log-Likelihood:               -7660.09\n",
              "Distribution:                  Normal   AIC:                           15326.2\n",
              "Method:            Maximum Likelihood   BIC:                           15345.7\n",
              "                                        No. Observations:                 5020\n",
              "Date:                Wed, Apr 01 2020   Df Residuals:                     5017\n",
              "Time:                        22:13:47   Df Model:                            3\n",
              "                                 Mean Model                                 \n",
              "============================================================================\n",
              "                 coef    std err          t      P>|t|      95.0% Conf. Int.\n",
              "----------------------------------------------------------------------------\n",
              "mu             0.0345  1.603e-02      2.151  3.147e-02 [3.063e-03,6.590e-02]\n",
              "                            Volatility Model                            \n",
              "========================================================================\n",
              "                 coef    std err          t      P>|t|  95.0% Conf. Int.\n",
              "------------------------------------------------------------------------\n",
              "omega          0.9206  4.309e-02     21.365 2.855e-101 [  0.836,  1.005]\n",
              "alpha[1]       0.3684  5.040e-02      7.310  2.673e-13 [  0.270,  0.467]\n",
              "========================================================================\n",
              "\n",
              "Covariance estimator: robust\n",
              "\"\"\""
            ]
          },
          "metadata": {
            "tags": []
          },
          "execution_count": 17
        }
      ]
    },
    {
      "cell_type": "code",
      "metadata": {
        "id": "I8LnRv9qyznb",
        "colab_type": "code",
        "colab": {
          "base_uri": "https://localhost:8080/",
          "height": 675
        },
        "outputId": "2e8bceb6-6629-44da-e9bd-bbe46499dc9d"
      },
      "source": [
        "model_arch_1 = arch_model(df.returns[1:], mean = \"AR\", lags = [2, 3, 6], vol = \"ARCH\", p = 1, dist = \"ged\")\n",
        "results_arch_1 = model_arch_1.fit(update_freq = 5)\n",
        "results_arch_1.summary()"
      ],
      "execution_count": 18,
      "outputs": [
        {
          "output_type": "stream",
          "text": [
            "Iteration:      5,   Func. Count:     56,   Neg. LLF: 7392.978753452066\n",
            "Iteration:     10,   Func. Count:    109,   Neg. LLF: 7320.74917620397\n",
            "Iteration:     15,   Func. Count:    156,   Neg. LLF: 7317.119673966012\n",
            "Iteration:     20,   Func. Count:    205,   Neg. LLF: 7317.118107649978\n",
            "Optimization terminated successfully.    (Exit mode 0)\n",
            "            Current function value: 7317.118092665535\n",
            "            Iterations: 22\n",
            "            Function evaluations: 228\n",
            "            Gradient evaluations: 22\n"
          ],
          "name": "stdout"
        },
        {
          "output_type": "execute_result",
          "data": {
            "text/html": [
              "<table class=\"simpletable\">\n",
              "<caption>AR - ARCH Model Results</caption>\n",
              "<tr>\n",
              "  <th>Dep. Variable:</th>             <td>returns</td>            <th>  R-squared:         </th>  <td>   0.008</td> \n",
              "</tr>\n",
              "<tr>\n",
              "  <th>Mean Model:</th>                  <td>AR</td>               <th>  Adj. R-squared:    </th>  <td>   0.007</td> \n",
              "</tr>\n",
              "<tr>\n",
              "  <th>Vol Model:</th>                  <td>ARCH</td>              <th>  Log-Likelihood:    </th> <td>  -7317.12</td>\n",
              "</tr>\n",
              "<tr>\n",
              "  <th>Distribution:</th>  <td>Generalized Error Distribution</td> <th>  AIC:               </th> <td>   14648.2</td>\n",
              "</tr>\n",
              "<tr>\n",
              "  <th>Method:</th>              <td>Maximum Likelihood</td>       <th>  BIC:               </th> <td>   14693.9</td>\n",
              "</tr>\n",
              "<tr>\n",
              "  <th></th>                              <td></td>                <th>  No. Observations:  </th>    <td>5014</td>   \n",
              "</tr>\n",
              "<tr>\n",
              "  <th>Date:</th>                 <td>Wed, Apr 01 2020</td>        <th>  Df Residuals:      </th>    <td>5007</td>   \n",
              "</tr>\n",
              "<tr>\n",
              "  <th>Time:</th>                     <td>22:13:48</td>            <th>  Df Model:          </th>      <td>7</td>    \n",
              "</tr>\n",
              "</table>\n",
              "<table class=\"simpletable\">\n",
              "<caption>Mean Model</caption>\n",
              "<tr>\n",
              "       <td></td>         <th>coef</th>     <th>std err</th>      <th>t</th>       <th>P>|t|</th>      <th>95.0% Conf. Int.</th>    \n",
              "</tr>\n",
              "<tr>\n",
              "  <th>Const</th>      <td>    0.0474</td> <td>6.131e-03</td> <td>    7.732</td> <td>1.058e-14</td>  <td>[3.539e-02,5.943e-02]</td> \n",
              "</tr>\n",
              "<tr>\n",
              "  <th>returns[2]</th> <td>   -0.0396</td> <td>2.806e-02</td> <td>   -1.410</td> <td>    0.159</td> <td>[-9.457e-02,1.543e-02]</td> \n",
              "</tr>\n",
              "<tr>\n",
              "  <th>returns[3]</th> <td>   -0.0348</td> <td>5.936e-03</td> <td>   -5.858</td> <td>4.677e-09</td> <td>[-4.641e-02,-2.314e-02]</td>\n",
              "</tr>\n",
              "<tr>\n",
              "  <th>returns[6]</th> <td>   -0.0283</td> <td>1.728e-03</td> <td>  -16.391</td> <td>2.235e-60</td> <td>[-3.170e-02,-2.493e-02]</td>\n",
              "</tr>\n",
              "</table>\n",
              "<table class=\"simpletable\">\n",
              "<caption>Volatility Model</caption>\n",
              "<tr>\n",
              "      <td></td>        <th>coef</th>     <th>std err</th>      <th>t</th>        <th>P>|t|</th>   <th>95.0% Conf. Int.</th> \n",
              "</tr>\n",
              "<tr>\n",
              "  <th>omega</th>    <td>    0.9166</td> <td>3.760e-02</td> <td>   24.378</td> <td>2.951e-131</td> <td>[  0.843,  0.990]</td>\n",
              "</tr>\n",
              "<tr>\n",
              "  <th>alpha[1]</th> <td>    0.3428</td> <td>3.939e-02</td> <td>    8.703</td>  <td>3.228e-18</td> <td>[  0.266,  0.420]</td>\n",
              "</tr>\n",
              "</table>\n",
              "<table class=\"simpletable\">\n",
              "<caption>Distribution</caption>\n",
              "<tr>\n",
              "   <td></td>     <th>coef</th>     <th>std err</th>      <th>t</th>        <th>P>|t|</th>   <th>95.0% Conf. Int.</th> \n",
              "</tr>\n",
              "<tr>\n",
              "  <th>nu</th> <td>    1.0675</td> <td>3.251e-02</td> <td>   32.842</td> <td>1.485e-236</td> <td>[  1.004,  1.131]</td>\n",
              "</tr>\n",
              "</table><br/><br/>Covariance estimator: robust"
            ],
            "text/plain": [
              "<class 'statsmodels.iolib.summary.Summary'>\n",
              "\"\"\"\n",
              "                                 AR - ARCH Model Results                                  \n",
              "==========================================================================================\n",
              "Dep. Variable:                            returns   R-squared:                       0.008\n",
              "Mean Model:                                    AR   Adj. R-squared:                  0.007\n",
              "Vol Model:                                   ARCH   Log-Likelihood:               -7317.12\n",
              "Distribution:      Generalized Error Distribution   AIC:                           14648.2\n",
              "Method:                        Maximum Likelihood   BIC:                           14693.9\n",
              "                                                    No. Observations:                 5014\n",
              "Date:                            Wed, Apr 01 2020   Df Residuals:                     5007\n",
              "Time:                                    22:13:48   Df Model:                            7\n",
              "                                  Mean Model                                  \n",
              "==============================================================================\n",
              "                 coef    std err          t      P>|t|        95.0% Conf. Int.\n",
              "------------------------------------------------------------------------------\n",
              "Const          0.0474  6.131e-03      7.732  1.058e-14   [3.539e-02,5.943e-02]\n",
              "returns[2]    -0.0396  2.806e-02     -1.410      0.159  [-9.457e-02,1.543e-02]\n",
              "returns[3]    -0.0348  5.936e-03     -5.858  4.677e-09 [-4.641e-02,-2.314e-02]\n",
              "returns[6]    -0.0283  1.728e-03    -16.391  2.235e-60 [-3.170e-02,-2.493e-02]\n",
              "                            Volatility Model                            \n",
              "========================================================================\n",
              "                 coef    std err          t      P>|t|  95.0% Conf. Int.\n",
              "------------------------------------------------------------------------\n",
              "omega          0.9166  3.760e-02     24.378 2.951e-131 [  0.843,  0.990]\n",
              "alpha[1]       0.3428  3.939e-02      8.703  3.228e-18 [  0.266,  0.420]\n",
              "                              Distribution                              \n",
              "========================================================================\n",
              "                 coef    std err          t      P>|t|  95.0% Conf. Int.\n",
              "------------------------------------------------------------------------\n",
              "nu             1.0675  3.251e-02     32.842 1.485e-236 [  1.004,  1.131]\n",
              "========================================================================\n",
              "\n",
              "Covariance estimator: robust\n",
              "\"\"\""
            ]
          },
          "metadata": {
            "tags": []
          },
          "execution_count": 18
        }
      ]
    },
    {
      "cell_type": "markdown",
      "metadata": {
        "id": "gikYgol6yznh",
        "colab_type": "text"
      },
      "source": [
        "## Higher-Lag ARCH Models"
      ]
    },
    {
      "cell_type": "code",
      "metadata": {
        "id": "xhJyNzsMyzni",
        "colab_type": "code",
        "colab": {
          "base_uri": "https://localhost:8080/",
          "height": 521
        },
        "outputId": "49ff595a-f6e8-469f-f91e-1c590bfb08a2"
      },
      "source": [
        "model_arch_2 = arch_model(df.returns[1:], mean = \"Constant\", vol = \"ARCH\", p = 2)\n",
        "results_arch_2 = model_arch_2.fit(update_freq = 5)\n",
        "results_arch_2.summary()"
      ],
      "execution_count": 19,
      "outputs": [
        {
          "output_type": "stream",
          "text": [
            "Iteration:      5,   Func. Count:     41,   Neg. LLF: 7449.870533644225\n",
            "Optimization terminated successfully.    (Exit mode 0)\n",
            "            Current function value: 7449.545164098316\n",
            "            Iterations: 9\n",
            "            Function evaluations: 67\n",
            "            Gradient evaluations: 9\n"
          ],
          "name": "stdout"
        },
        {
          "output_type": "execute_result",
          "data": {
            "text/html": [
              "<table class=\"simpletable\">\n",
              "<caption>Constant Mean - ARCH Model Results</caption>\n",
              "<tr>\n",
              "  <th>Dep. Variable:</th>       <td>returns</td>      <th>  R-squared:         </th>  <td>  -0.001</td> \n",
              "</tr>\n",
              "<tr>\n",
              "  <th>Mean Model:</th>       <td>Constant Mean</td>   <th>  Adj. R-squared:    </th>  <td>  -0.001</td> \n",
              "</tr>\n",
              "<tr>\n",
              "  <th>Vol Model:</th>            <td>ARCH</td>        <th>  Log-Likelihood:    </th> <td>  -7449.55</td>\n",
              "</tr>\n",
              "<tr>\n",
              "  <th>Distribution:</th>        <td>Normal</td>       <th>  AIC:               </th> <td>   14907.1</td>\n",
              "</tr>\n",
              "<tr>\n",
              "  <th>Method:</th>        <td>Maximum Likelihood</td> <th>  BIC:               </th> <td>   14933.2</td>\n",
              "</tr>\n",
              "<tr>\n",
              "  <th></th>                        <td></td>          <th>  No. Observations:  </th>    <td>5020</td>   \n",
              "</tr>\n",
              "<tr>\n",
              "  <th>Date:</th>           <td>Wed, Apr 01 2020</td>  <th>  Df Residuals:      </th>    <td>5016</td>   \n",
              "</tr>\n",
              "<tr>\n",
              "  <th>Time:</th>               <td>22:13:48</td>      <th>  Df Model:          </th>      <td>4</td>    \n",
              "</tr>\n",
              "</table>\n",
              "<table class=\"simpletable\">\n",
              "<caption>Mean Model</caption>\n",
              "<tr>\n",
              "   <td></td>     <th>coef</th>     <th>std err</th>      <th>t</th>       <th>P>|t|</th>     <th>95.0% Conf. Int.</th>   \n",
              "</tr>\n",
              "<tr>\n",
              "  <th>mu</th> <td>    0.0484</td> <td>1.401e-02</td> <td>    3.455</td> <td>5.495e-04</td> <td>[2.095e-02,7.585e-02]</td>\n",
              "</tr>\n",
              "</table>\n",
              "<table class=\"simpletable\">\n",
              "<caption>Volatility Model</caption>\n",
              "<tr>\n",
              "      <td></td>        <th>coef</th>     <th>std err</th>      <th>t</th>       <th>P>|t|</th>   <th>95.0% Conf. Int.</th> \n",
              "</tr>\n",
              "<tr>\n",
              "  <th>omega</th>    <td>    0.6978</td> <td>3.564e-02</td> <td>   19.580</td> <td>2.272e-85</td> <td>[  0.628,  0.768]</td>\n",
              "</tr>\n",
              "<tr>\n",
              "  <th>alpha[1]</th> <td>    0.2202</td> <td>3.474e-02</td> <td>    6.339</td> <td>2.311e-10</td> <td>[  0.152,  0.288]</td>\n",
              "</tr>\n",
              "<tr>\n",
              "  <th>alpha[2]</th> <td>    0.2783</td> <td>3.645e-02</td> <td>    7.635</td> <td>2.260e-14</td> <td>[  0.207,  0.350]</td>\n",
              "</tr>\n",
              "</table><br/><br/>Covariance estimator: robust"
            ],
            "text/plain": [
              "<class 'statsmodels.iolib.summary.Summary'>\n",
              "\"\"\"\n",
              "                      Constant Mean - ARCH Model Results                      \n",
              "==============================================================================\n",
              "Dep. Variable:                returns   R-squared:                      -0.001\n",
              "Mean Model:             Constant Mean   Adj. R-squared:                 -0.001\n",
              "Vol Model:                       ARCH   Log-Likelihood:               -7449.55\n",
              "Distribution:                  Normal   AIC:                           14907.1\n",
              "Method:            Maximum Likelihood   BIC:                           14933.2\n",
              "                                        No. Observations:                 5020\n",
              "Date:                Wed, Apr 01 2020   Df Residuals:                     5016\n",
              "Time:                        22:13:48   Df Model:                            4\n",
              "                                 Mean Model                                 \n",
              "============================================================================\n",
              "                 coef    std err          t      P>|t|      95.0% Conf. Int.\n",
              "----------------------------------------------------------------------------\n",
              "mu             0.0484  1.401e-02      3.455  5.495e-04 [2.095e-02,7.585e-02]\n",
              "                            Volatility Model                            \n",
              "========================================================================\n",
              "                 coef    std err          t      P>|t|  95.0% Conf. Int.\n",
              "------------------------------------------------------------------------\n",
              "omega          0.6978  3.564e-02     19.580  2.272e-85 [  0.628,  0.768]\n",
              "alpha[1]       0.2202  3.474e-02      6.339  2.311e-10 [  0.152,  0.288]\n",
              "alpha[2]       0.2783  3.645e-02      7.635  2.260e-14 [  0.207,  0.350]\n",
              "========================================================================\n",
              "\n",
              "Covariance estimator: robust\n",
              "\"\"\""
            ]
          },
          "metadata": {
            "tags": []
          },
          "execution_count": 19
        }
      ]
    },
    {
      "cell_type": "code",
      "metadata": {
        "id": "ADhc9wc8yznl",
        "colab_type": "code",
        "colab": {
          "base_uri": "https://localhost:8080/",
          "height": 559
        },
        "outputId": "bf2541f0-e4a7-43d1-defa-8515a0537a78"
      },
      "source": [
        "model_arch_3 = arch_model(df.returns[1:], mean = \"Constant\", vol = \"ARCH\", p = 3)\n",
        "results_arch_3 = model_arch_3.fit(update_freq = 5)\n",
        "results_arch_3.summary()"
      ],
      "execution_count": 20,
      "outputs": [
        {
          "output_type": "stream",
          "text": [
            "Iteration:      5,   Func. Count:     45,   Neg. LLF: 7278.805807411393\n",
            "Iteration:     10,   Func. Count:     84,   Neg. LLF: 7277.050453152619\n",
            "Optimization terminated successfully.    (Exit mode 0)\n",
            "            Current function value: 7277.050452148393\n",
            "            Iterations: 11\n",
            "            Function evaluations: 91\n",
            "            Gradient evaluations: 11\n"
          ],
          "name": "stdout"
        },
        {
          "output_type": "execute_result",
          "data": {
            "text/html": [
              "<table class=\"simpletable\">\n",
              "<caption>Constant Mean - ARCH Model Results</caption>\n",
              "<tr>\n",
              "  <th>Dep. Variable:</th>       <td>returns</td>      <th>  R-squared:         </th>  <td>  -0.001</td> \n",
              "</tr>\n",
              "<tr>\n",
              "  <th>Mean Model:</th>       <td>Constant Mean</td>   <th>  Adj. R-squared:    </th>  <td>  -0.001</td> \n",
              "</tr>\n",
              "<tr>\n",
              "  <th>Vol Model:</th>            <td>ARCH</td>        <th>  Log-Likelihood:    </th> <td>  -7277.05</td>\n",
              "</tr>\n",
              "<tr>\n",
              "  <th>Distribution:</th>        <td>Normal</td>       <th>  AIC:               </th> <td>   14564.1</td>\n",
              "</tr>\n",
              "<tr>\n",
              "  <th>Method:</th>        <td>Maximum Likelihood</td> <th>  BIC:               </th> <td>   14596.7</td>\n",
              "</tr>\n",
              "<tr>\n",
              "  <th></th>                        <td></td>          <th>  No. Observations:  </th>    <td>5020</td>   \n",
              "</tr>\n",
              "<tr>\n",
              "  <th>Date:</th>           <td>Wed, Apr 01 2020</td>  <th>  Df Residuals:      </th>    <td>5015</td>   \n",
              "</tr>\n",
              "<tr>\n",
              "  <th>Time:</th>               <td>22:13:48</td>      <th>  Df Model:          </th>      <td>5</td>    \n",
              "</tr>\n",
              "</table>\n",
              "<table class=\"simpletable\">\n",
              "<caption>Mean Model</caption>\n",
              "<tr>\n",
              "   <td></td>     <th>coef</th>     <th>std err</th>      <th>t</th>       <th>P>|t|</th>     <th>95.0% Conf. Int.</th>   \n",
              "</tr>\n",
              "<tr>\n",
              "  <th>mu</th> <td>    0.0529</td> <td>1.316e-02</td> <td>    4.018</td> <td>5.875e-05</td> <td>[2.707e-02,7.865e-02]</td>\n",
              "</tr>\n",
              "</table>\n",
              "<table class=\"simpletable\">\n",
              "<caption>Volatility Model</caption>\n",
              "<tr>\n",
              "      <td></td>        <th>coef</th>     <th>std err</th>      <th>t</th>       <th>P>|t|</th>   <th>95.0% Conf. Int.</th> \n",
              "</tr>\n",
              "<tr>\n",
              "  <th>omega</th>    <td>    0.5012</td> <td>2.834e-02</td> <td>   17.685</td> <td>5.505e-70</td> <td>[  0.446,  0.557]</td>\n",
              "</tr>\n",
              "<tr>\n",
              "  <th>alpha[1]</th> <td>    0.1570</td> <td>2.649e-02</td> <td>    5.926</td> <td>3.108e-09</td> <td>[  0.105,  0.209]</td>\n",
              "</tr>\n",
              "<tr>\n",
              "  <th>alpha[2]</th> <td>    0.2197</td> <td>2.588e-02</td> <td>    8.489</td> <td>2.077e-17</td> <td>[  0.169,  0.270]</td>\n",
              "</tr>\n",
              "<tr>\n",
              "  <th>alpha[3]</th> <td>    0.2804</td> <td>3.354e-02</td> <td>    8.359</td> <td>6.302e-17</td> <td>[  0.215,  0.346]</td>\n",
              "</tr>\n",
              "</table><br/><br/>Covariance estimator: robust"
            ],
            "text/plain": [
              "<class 'statsmodels.iolib.summary.Summary'>\n",
              "\"\"\"\n",
              "                      Constant Mean - ARCH Model Results                      \n",
              "==============================================================================\n",
              "Dep. Variable:                returns   R-squared:                      -0.001\n",
              "Mean Model:             Constant Mean   Adj. R-squared:                 -0.001\n",
              "Vol Model:                       ARCH   Log-Likelihood:               -7277.05\n",
              "Distribution:                  Normal   AIC:                           14564.1\n",
              "Method:            Maximum Likelihood   BIC:                           14596.7\n",
              "                                        No. Observations:                 5020\n",
              "Date:                Wed, Apr 01 2020   Df Residuals:                     5015\n",
              "Time:                        22:13:48   Df Model:                            5\n",
              "                                 Mean Model                                 \n",
              "============================================================================\n",
              "                 coef    std err          t      P>|t|      95.0% Conf. Int.\n",
              "----------------------------------------------------------------------------\n",
              "mu             0.0529  1.316e-02      4.018  5.875e-05 [2.707e-02,7.865e-02]\n",
              "                            Volatility Model                            \n",
              "========================================================================\n",
              "                 coef    std err          t      P>|t|  95.0% Conf. Int.\n",
              "------------------------------------------------------------------------\n",
              "omega          0.5012  2.834e-02     17.685  5.505e-70 [  0.446,  0.557]\n",
              "alpha[1]       0.1570  2.649e-02      5.926  3.108e-09 [  0.105,  0.209]\n",
              "alpha[2]       0.2197  2.588e-02      8.489  2.077e-17 [  0.169,  0.270]\n",
              "alpha[3]       0.2804  3.354e-02      8.359  6.302e-17 [  0.215,  0.346]\n",
              "========================================================================\n",
              "\n",
              "Covariance estimator: robust\n",
              "\"\"\""
            ]
          },
          "metadata": {
            "tags": []
          },
          "execution_count": 20
        }
      ]
    },
    {
      "cell_type": "code",
      "metadata": {
        "id": "jdsrs8SIyzno",
        "colab_type": "code",
        "colab": {
          "base_uri": "https://localhost:8080/",
          "height": 820
        },
        "outputId": "f0eec50f-f996-41d8-c6d8-1cd6828d1b62"
      },
      "source": [
        "model_arch_13 = arch_model(df.returns[1:], mean = \"Constant\", vol = \"ARCH\", p = 13)\n",
        "results_arch_13 = model_arch_13.fit(update_freq = 5)\n",
        "results_arch_13.summary()"
      ],
      "execution_count": 21,
      "outputs": [
        {
          "output_type": "stream",
          "text": [
            "Iteration:      5,   Func. Count:     93,   Neg. LLF: 6996.500043707073\n",
            "Iteration:     10,   Func. Count:    188,   Neg. LLF: 6985.661375673177\n",
            "Iteration:     15,   Func. Count:    283,   Neg. LLF: 6984.395178347233\n",
            "Iteration:     20,   Func. Count:    378,   Neg. LLF: 6984.218261212904\n",
            "Iteration:     25,   Func. Count:    468,   Neg. LLF: 6984.175140343418\n",
            "Optimization terminated successfully.    (Exit mode 0)\n",
            "            Current function value: 6984.175062618146\n",
            "            Iterations: 27\n",
            "            Function evaluations: 502\n",
            "            Gradient evaluations: 27\n"
          ],
          "name": "stdout"
        },
        {
          "output_type": "execute_result",
          "data": {
            "text/html": [
              "<table class=\"simpletable\">\n",
              "<caption>Constant Mean - ARCH Model Results</caption>\n",
              "<tr>\n",
              "  <th>Dep. Variable:</th>       <td>returns</td>      <th>  R-squared:         </th>  <td>  -0.001</td> \n",
              "</tr>\n",
              "<tr>\n",
              "  <th>Mean Model:</th>       <td>Constant Mean</td>   <th>  Adj. R-squared:    </th>  <td>  -0.001</td> \n",
              "</tr>\n",
              "<tr>\n",
              "  <th>Vol Model:</th>            <td>ARCH</td>        <th>  Log-Likelihood:    </th> <td>  -6984.18</td>\n",
              "</tr>\n",
              "<tr>\n",
              "  <th>Distribution:</th>        <td>Normal</td>       <th>  AIC:               </th> <td>   13998.4</td>\n",
              "</tr>\n",
              "<tr>\n",
              "  <th>Method:</th>        <td>Maximum Likelihood</td> <th>  BIC:               </th> <td>   14096.2</td>\n",
              "</tr>\n",
              "<tr>\n",
              "  <th></th>                        <td></td>          <th>  No. Observations:  </th>    <td>5020</td>   \n",
              "</tr>\n",
              "<tr>\n",
              "  <th>Date:</th>           <td>Wed, Apr 01 2020</td>  <th>  Df Residuals:      </th>    <td>5005</td>   \n",
              "</tr>\n",
              "<tr>\n",
              "  <th>Time:</th>               <td>22:13:48</td>      <th>  Df Model:          </th>     <td>15</td>    \n",
              "</tr>\n",
              "</table>\n",
              "<table class=\"simpletable\">\n",
              "<caption>Mean Model</caption>\n",
              "<tr>\n",
              "   <td></td>     <th>coef</th>     <th>std err</th>      <th>t</th>       <th>P>|t|</th>     <th>95.0% Conf. Int.</th>   \n",
              "</tr>\n",
              "<tr>\n",
              "  <th>mu</th> <td>    0.0492</td> <td>1.206e-02</td> <td>    4.077</td> <td>4.566e-05</td> <td>[2.553e-02,7.281e-02]</td>\n",
              "</tr>\n",
              "</table>\n",
              "<table class=\"simpletable\">\n",
              "<caption>Volatility Model</caption>\n",
              "<tr>\n",
              "      <td></td>         <th>coef</th>     <th>std err</th>      <th>t</th>       <th>P>|t|</th>      <th>95.0% Conf. Int.</th>   \n",
              "</tr>\n",
              "<tr>\n",
              "  <th>omega</th>     <td>    0.1871</td> <td>2.210e-02</td> <td>    8.466</td> <td>2.538e-17</td>    <td>[  0.144,  0.230]</td>  \n",
              "</tr>\n",
              "<tr>\n",
              "  <th>alpha[1]</th>  <td>    0.0568</td> <td>1.729e-02</td> <td>    3.282</td> <td>1.029e-03</td>  <td>[2.287e-02,9.065e-02]</td>\n",
              "</tr>\n",
              "<tr>\n",
              "  <th>alpha[2]</th>  <td>    0.1156</td> <td>2.017e-02</td> <td>    5.733</td> <td>9.840e-09</td>   <td>[7.610e-02,  0.155]</td> \n",
              "</tr>\n",
              "<tr>\n",
              "  <th>alpha[3]</th>  <td>    0.1265</td> <td>2.625e-02</td> <td>    4.820</td> <td>1.433e-06</td>   <td>[7.509e-02,  0.178]</td> \n",
              "</tr>\n",
              "<tr>\n",
              "  <th>alpha[4]</th>  <td>    0.0884</td> <td>2.159e-02</td> <td>    4.093</td> <td>4.265e-05</td>   <td>[4.605e-02,  0.131]</td> \n",
              "</tr>\n",
              "<tr>\n",
              "  <th>alpha[5]</th>  <td>    0.0695</td> <td>1.750e-02</td> <td>    3.970</td> <td>7.189e-05</td>   <td>[3.518e-02,  0.104]</td> \n",
              "</tr>\n",
              "<tr>\n",
              "  <th>alpha[6]</th>  <td>    0.0865</td> <td>1.926e-02</td> <td>    4.491</td> <td>7.092e-06</td>   <td>[4.874e-02,  0.124]</td> \n",
              "</tr>\n",
              "<tr>\n",
              "  <th>alpha[7]</th>  <td>    0.0404</td> <td>1.846e-02</td> <td>    2.188</td> <td>2.870e-02</td>  <td>[4.203e-03,7.658e-02]</td>\n",
              "</tr>\n",
              "<tr>\n",
              "  <th>alpha[8]</th>  <td>    0.0654</td> <td>1.833e-02</td> <td>    3.565</td> <td>3.633e-04</td>   <td>[2.943e-02,  0.101]</td> \n",
              "</tr>\n",
              "<tr>\n",
              "  <th>alpha[9]</th>  <td>    0.0292</td> <td>1.603e-02</td> <td>    1.820</td> <td>6.877e-02</td> <td>[-2.245e-03,6.058e-02]</td>\n",
              "</tr>\n",
              "<tr>\n",
              "  <th>alpha[10]</th> <td>    0.0335</td> <td>1.605e-02</td> <td>    2.089</td> <td>3.670e-02</td>  <td>[2.072e-03,6.498e-02]</td>\n",
              "</tr>\n",
              "<tr>\n",
              "  <th>alpha[11]</th> <td>    0.0775</td> <td>1.760e-02</td> <td>    4.403</td> <td>1.067e-05</td>   <td>[4.300e-02,  0.112]</td> \n",
              "</tr>\n",
              "<tr>\n",
              "  <th>alpha[12]</th> <td>    0.0473</td> <td>1.873e-02</td> <td>    2.526</td> <td>1.153e-02</td>  <td>[1.060e-02,8.402e-02]</td>\n",
              "</tr>\n",
              "<tr>\n",
              "  <th>alpha[13]</th> <td>    0.0372</td> <td>1.431e-02</td> <td>    2.600</td> <td>9.317e-03</td>  <td>[9.162e-03,6.526e-02]</td>\n",
              "</tr>\n",
              "</table><br/><br/>Covariance estimator: robust"
            ],
            "text/plain": [
              "<class 'statsmodels.iolib.summary.Summary'>\n",
              "\"\"\"\n",
              "                      Constant Mean - ARCH Model Results                      \n",
              "==============================================================================\n",
              "Dep. Variable:                returns   R-squared:                      -0.001\n",
              "Mean Model:             Constant Mean   Adj. R-squared:                 -0.001\n",
              "Vol Model:                       ARCH   Log-Likelihood:               -6984.18\n",
              "Distribution:                  Normal   AIC:                           13998.4\n",
              "Method:            Maximum Likelihood   BIC:                           14096.2\n",
              "                                        No. Observations:                 5020\n",
              "Date:                Wed, Apr 01 2020   Df Residuals:                     5005\n",
              "Time:                        22:13:48   Df Model:                           15\n",
              "                                 Mean Model                                 \n",
              "============================================================================\n",
              "                 coef    std err          t      P>|t|      95.0% Conf. Int.\n",
              "----------------------------------------------------------------------------\n",
              "mu             0.0492  1.206e-02      4.077  4.566e-05 [2.553e-02,7.281e-02]\n",
              "                               Volatility Model                              \n",
              "=============================================================================\n",
              "                 coef    std err          t      P>|t|       95.0% Conf. Int.\n",
              "-----------------------------------------------------------------------------\n",
              "omega          0.1871  2.210e-02      8.466  2.538e-17      [  0.144,  0.230]\n",
              "alpha[1]       0.0568  1.729e-02      3.282  1.029e-03  [2.287e-02,9.065e-02]\n",
              "alpha[2]       0.1156  2.017e-02      5.733  9.840e-09    [7.610e-02,  0.155]\n",
              "alpha[3]       0.1265  2.625e-02      4.820  1.433e-06    [7.509e-02,  0.178]\n",
              "alpha[4]       0.0884  2.159e-02      4.093  4.265e-05    [4.605e-02,  0.131]\n",
              "alpha[5]       0.0695  1.750e-02      3.970  7.189e-05    [3.518e-02,  0.104]\n",
              "alpha[6]       0.0865  1.926e-02      4.491  7.092e-06    [4.874e-02,  0.124]\n",
              "alpha[7]       0.0404  1.846e-02      2.188  2.870e-02  [4.203e-03,7.658e-02]\n",
              "alpha[8]       0.0654  1.833e-02      3.565  3.633e-04    [2.943e-02,  0.101]\n",
              "alpha[9]       0.0292  1.603e-02      1.820  6.877e-02 [-2.245e-03,6.058e-02]\n",
              "alpha[10]      0.0335  1.605e-02      2.089  3.670e-02  [2.072e-03,6.498e-02]\n",
              "alpha[11]      0.0775  1.760e-02      4.403  1.067e-05    [4.300e-02,  0.112]\n",
              "alpha[12]      0.0473  1.873e-02      2.526  1.153e-02  [1.060e-02,8.402e-02]\n",
              "alpha[13]      0.0372  1.431e-02      2.600  9.317e-03  [9.162e-03,6.526e-02]\n",
              "=============================================================================\n",
              "\n",
              "Covariance estimator: robust\n",
              "\"\"\""
            ]
          },
          "metadata": {
            "tags": []
          },
          "execution_count": 21
        }
      ]
    }
  ]
}